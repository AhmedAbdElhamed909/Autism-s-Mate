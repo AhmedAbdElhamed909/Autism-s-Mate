{
 "cells": [
  {
   "cell_type": "code",
   "execution_count": 1,
   "id": "a671b741",
   "metadata": {
    "_cell_guid": "b1076dfc-b9ad-4769-8c92-a6c4dae69d19",
    "_uuid": "8f2839f25d086af736a60e9eeb907d3b93b6e0e5",
    "execution": {
     "iopub.execute_input": "2023-01-14T22:22:19.249128Z",
     "iopub.status.busy": "2023-01-14T22:22:19.248616Z",
     "iopub.status.idle": "2023-01-14T22:22:20.542391Z",
     "shell.execute_reply": "2023-01-14T22:22:20.541440Z"
    },
    "papermill": {
     "duration": 1.310013,
     "end_time": "2023-01-14T22:22:20.544920",
     "exception": false,
     "start_time": "2023-01-14T22:22:19.234907",
     "status": "completed"
    },
    "tags": []
   },
   "outputs": [],
   "source": [
    "# This Python 3 environment comes with many helpful analytics libraries installed\n",
    "# It is defined by the kaggle/python Docker image: https://github.com/kaggle/docker-python\n",
    "# For example, here's several helpful packages to load\n",
    "\n",
    "import numpy as np # linear algebra\n",
    "import pandas as pd # data processing, CSV file I/O (e.g. pd.read_csv)\n",
    "\n",
    "# Input data files are available in the read-only \"../input/\" directory\n",
    "# For example, running this (by clicking run or pressing Shift+Enter) will list all files under the input directory\n",
    "\n",
    "import os\n",
    "for dirname, _, filenames in os.walk('/kaggle/input'):\n",
    "    for filename in filenames:\n",
    "        os.path.join(dirname, filename)\n",
    "\n",
    "# You can write up to 20GB to the current directory (/kaggle/working/) that gets preserved as output when you create a version using \"Save & Run All\" \n",
    "# You can also write temporary files to /kaggle/temp/, but they won't be saved outside of the current session\n",
    " "
   ]
  },
  {
   "cell_type": "code",
   "execution_count": 2,
   "id": "09087241",
   "metadata": {
    "execution": {
     "iopub.execute_input": "2023-01-14T22:22:20.559325Z",
     "iopub.status.busy": "2023-01-14T22:22:20.558529Z",
     "iopub.status.idle": "2023-01-14T22:22:26.664222Z",
     "shell.execute_reply": "2023-01-14T22:22:26.663057Z"
    },
    "papermill": {
     "duration": 6.115139,
     "end_time": "2023-01-14T22:22:26.666649",
     "exception": false,
     "start_time": "2023-01-14T22:22:20.551510",
     "status": "completed"
    },
    "tags": []
   },
   "outputs": [],
   "source": [
    "#import libraries\n",
    "import tensorflow as tf\n",
    "import keras\n",
    "from keras.models import Sequential\n",
    "from keras.layers import Dense, Conv2D, MaxPool2D , Flatten\n",
    "from tensorflow.keras.optimizers import Adam\n",
    "from tensorflow.keras.preprocessing.image import ImageDataGenerator\n",
    "from keras.callbacks import ModelCheckpoint, EarlyStopping\n",
    "\n",
    "import numpy as np\n",
    "import cv2\n",
    "\n",
    "import PIL.Image as Image\n",
    "import os\n",
    "\n",
    "import matplotlib.pylab as plt\n",
    "\n",
    "import tensorflow as tf\n",
    "import tensorflow_hub as hub\n",
    "\n",
    "from tensorflow import keras\n",
    "from tensorflow.keras import layers\n",
    "from tensorflow.keras.models import Sequential\n",
    "from tensorflow.keras.preprocessing.image import ImageDataGenerator\n",
    "\n",
    "from keras.applications.vgg16 import VGG16\n",
    "from keras.models import Model\n",
    "from keras.layers import Dense\n",
    "from keras.layers import Flatten\n",
    "import tensorflow.keras.backend as K\n",
    "from keras.models import load_model\n",
    "\n",
    "from sklearn.linear_model import LogisticRegression\n",
    "import random"
   ]
  },
  {
   "cell_type": "markdown",
   "id": "f808cfef",
   "metadata": {
    "papermill": {
     "duration": 0.005849,
     "end_time": "2023-01-14T22:22:26.679076",
     "exception": false,
     "start_time": "2023-01-14T22:22:26.673227",
     "status": "completed"
    },
    "tags": []
   },
   "source": [
    "# data reading"
   ]
  },
  {
   "cell_type": "code",
   "execution_count": 3,
   "id": "77ce09bf",
   "metadata": {
    "execution": {
     "iopub.execute_input": "2023-01-14T22:22:26.692560Z",
     "iopub.status.busy": "2023-01-14T22:22:26.692036Z",
     "iopub.status.idle": "2023-01-14T22:22:26.697247Z",
     "shell.execute_reply": "2023-01-14T22:22:26.696224Z"
    },
    "papermill": {
     "duration": 0.014398,
     "end_time": "2023-01-14T22:22:26.699475",
     "exception": false,
     "start_time": "2023-01-14T22:22:26.685077",
     "status": "completed"
    },
    "tags": []
   },
   "outputs": [],
   "source": [
    "#image preproccessing\n",
    "train = ImageDataGenerator(rescale =1./255)\n",
    "test= ImageDataGenerator(rescale= 1/255)\n",
    "valid = ImageDataGenerator(rescale =1./255)"
   ]
  },
  {
   "cell_type": "code",
   "execution_count": 4,
   "id": "5ae0adaa",
   "metadata": {
    "execution": {
     "iopub.execute_input": "2023-01-14T22:22:26.713525Z",
     "iopub.status.busy": "2023-01-14T22:22:26.712646Z",
     "iopub.status.idle": "2023-01-14T22:22:27.153097Z",
     "shell.execute_reply": "2023-01-14T22:22:27.152104Z"
    },
    "papermill": {
     "duration": 0.449988,
     "end_time": "2023-01-14T22:22:27.155521",
     "exception": false,
     "start_time": "2023-01-14T22:22:26.705533",
     "status": "completed"
    },
    "tags": []
   },
   "outputs": [
    {
     "name": "stdout",
     "output_type": "stream",
     "text": [
      "Found 2536 images belonging to 2 classes.\n",
      "Found 300 images belonging to 2 classes.\n",
      "Found 100 images belonging to 2 classes.\n"
     ]
    }
   ],
   "source": [
    "#save data\n",
    "photo_size = 256\n",
    "traindata = train.flow_from_directory(directory=\"/kaggle/input/autistic-children-facial-data-set/train\",target_size=(photo_size,photo_size) ,class_mode='binary',\n",
    "        batch_size=32,\n",
    "        classes=['non_autistic','autistic'] )\n",
    "testdata= test.flow_from_directory(directory=\"/kaggle/input/autistic-children-facial-data-set/test\", target_size=(photo_size,photo_size),class_mode='binary',\n",
    "        batch_size=32,\n",
    "        classes=['non_autistic','autistic'])\n",
    "validdata =  valid.flow_from_directory(directory=\"/kaggle/input/autistic-children-facial-data-set/valid\", target_size=(photo_size,photo_size),class_mode='binary',\n",
    "        batch_size=32,\n",
    "        classes=['non_autistic','autistic'])"
   ]
  },
  {
   "cell_type": "markdown",
   "id": "a03b96ba",
   "metadata": {
    "papermill": {
     "duration": 0.006116,
     "end_time": "2023-01-14T22:22:27.169520",
     "exception": false,
     "start_time": "2023-01-14T22:22:27.163404",
     "status": "completed"
    },
    "tags": []
   },
   "source": [
    "# mobile  "
   ]
  },
  {
   "cell_type": "code",
   "execution_count": 5,
   "id": "f2e91d7c",
   "metadata": {
    "collapsed": true,
    "execution": {
     "iopub.execute_input": "2023-01-14T22:22:27.183591Z",
     "iopub.status.busy": "2023-01-14T22:22:27.183013Z",
     "iopub.status.idle": "2023-01-14T22:22:39.035475Z",
     "shell.execute_reply": "2023-01-14T22:22:39.034505Z"
    },
    "jupyter": {
     "outputs_hidden": true,
     "source_hidden": true
    },
    "papermill": {
     "duration": 11.862139,
     "end_time": "2023-01-14T22:22:39.037940",
     "exception": false,
     "start_time": "2023-01-14T22:22:27.175801",
     "status": "completed"
    },
    "tags": []
   },
   "outputs": [
    {
     "name": "stderr",
     "output_type": "stream",
     "text": [
      "2023-01-14 22:22:28.481243: I tensorflow/stream_executor/cuda/cuda_gpu_executor.cc:937] successful NUMA node read from SysFS had negative value (-1), but there must be at least one NUMA node, so returning NUMA node zero\n",
      "2023-01-14 22:22:28.605183: I tensorflow/stream_executor/cuda/cuda_gpu_executor.cc:937] successful NUMA node read from SysFS had negative value (-1), but there must be at least one NUMA node, so returning NUMA node zero\n",
      "2023-01-14 22:22:28.605955: I tensorflow/stream_executor/cuda/cuda_gpu_executor.cc:937] successful NUMA node read from SysFS had negative value (-1), but there must be at least one NUMA node, so returning NUMA node zero\n",
      "2023-01-14 22:22:28.608004: I tensorflow/core/platform/cpu_feature_guard.cc:142] This TensorFlow binary is optimized with oneAPI Deep Neural Network Library (oneDNN) to use the following CPU instructions in performance-critical operations:  AVX2 AVX512F FMA\n",
      "To enable them in other operations, rebuild TensorFlow with the appropriate compiler flags.\n",
      "2023-01-14 22:22:28.608330: I tensorflow/stream_executor/cuda/cuda_gpu_executor.cc:937] successful NUMA node read from SysFS had negative value (-1), but there must be at least one NUMA node, so returning NUMA node zero\n",
      "2023-01-14 22:22:28.609281: I tensorflow/stream_executor/cuda/cuda_gpu_executor.cc:937] successful NUMA node read from SysFS had negative value (-1), but there must be at least one NUMA node, so returning NUMA node zero\n",
      "2023-01-14 22:22:28.610174: I tensorflow/stream_executor/cuda/cuda_gpu_executor.cc:937] successful NUMA node read from SysFS had negative value (-1), but there must be at least one NUMA node, so returning NUMA node zero\n",
      "2023-01-14 22:22:30.688006: I tensorflow/stream_executor/cuda/cuda_gpu_executor.cc:937] successful NUMA node read from SysFS had negative value (-1), but there must be at least one NUMA node, so returning NUMA node zero\n",
      "2023-01-14 22:22:30.688923: I tensorflow/stream_executor/cuda/cuda_gpu_executor.cc:937] successful NUMA node read from SysFS had negative value (-1), but there must be at least one NUMA node, so returning NUMA node zero\n",
      "2023-01-14 22:22:30.689611: I tensorflow/stream_executor/cuda/cuda_gpu_executor.cc:937] successful NUMA node read from SysFS had negative value (-1), but there must be at least one NUMA node, so returning NUMA node zero\n",
      "2023-01-14 22:22:30.690210: I tensorflow/core/common_runtime/gpu/gpu_device.cc:1510] Created device /job:localhost/replica:0/task:0/device:GPU:0 with 15401 MB memory:  -> device: 0, name: Tesla P100-PCIE-16GB, pci bus id: 0000:00:04.0, compute capability: 6.0\n"
     ]
    }
   ],
   "source": [
    "feature_extractor_model = \"https://tfhub.dev/sayannath/mobilevit_xxs_1k_256_fe/1\"\n",
    "\n",
    "pretrained_model_without_top_layer = hub.KerasLayer(feature_extractor_model, input_shape=(photo_size, photo_size, 3), trainable=False)"
   ]
  },
  {
   "cell_type": "code",
   "execution_count": 6,
   "id": "4f94b4c7",
   "metadata": {
    "execution": {
     "iopub.execute_input": "2023-01-14T22:22:39.052950Z",
     "iopub.status.busy": "2023-01-14T22:22:39.052328Z",
     "iopub.status.idle": "2023-01-14T22:22:39.829875Z",
     "shell.execute_reply": "2023-01-14T22:22:39.828904Z"
    },
    "jupyter": {
     "source_hidden": true
    },
    "papermill": {
     "duration": 0.787568,
     "end_time": "2023-01-14T22:22:39.832269",
     "exception": false,
     "start_time": "2023-01-14T22:22:39.044701",
     "status": "completed"
    },
    "tags": []
   },
   "outputs": [],
   "source": [
    "model = tf.keras.Sequential([\n",
    "    pretrained_model_without_top_layer,\n",
    "    tf.keras.layers.Flatten(),\n",
    "    tf.keras.layers.Dense(32, activation = \"relu\"),\n",
    "    tf.keras.layers.Dense(8, activation = \"relu\"),\n",
    "    tf.keras.layers.Dense(1, activation = \"sigmoid\") \n",
    "    ])\n",
    "\n",
    "model.compile(\n",
    "  optimizer=\"adam\",\n",
    "  loss=tf.keras.losses.BinaryCrossentropy(),\n",
    "  metrics=['acc'])"
   ]
  },
  {
   "cell_type": "code",
   "execution_count": 7,
   "id": "cf26871d",
   "metadata": {
    "collapsed": true,
    "execution": {
     "iopub.execute_input": "2023-01-14T22:22:39.846682Z",
     "iopub.status.busy": "2023-01-14T22:22:39.846399Z",
     "iopub.status.idle": "2023-01-14T22:26:43.476508Z",
     "shell.execute_reply": "2023-01-14T22:26:43.475468Z"
    },
    "jupyter": {
     "outputs_hidden": true,
     "source_hidden": true
    },
    "papermill": {
     "duration": 243.640123,
     "end_time": "2023-01-14T22:26:43.479072",
     "exception": false,
     "start_time": "2023-01-14T22:22:39.838949",
     "status": "completed"
    },
    "tags": []
   },
   "outputs": [
    {
     "name": "stderr",
     "output_type": "stream",
     "text": [
      "2023-01-14 22:22:40.100003: I tensorflow/compiler/mlir/mlir_graph_optimization_pass.cc:185] None of the MLIR Optimization Passes are enabled (registered 2)\n"
     ]
    },
    {
     "name": "stdout",
     "output_type": "stream",
     "text": [
      "Epoch 1/25\n"
     ]
    },
    {
     "name": "stderr",
     "output_type": "stream",
     "text": [
      "2023-01-14 22:22:51.102736: I tensorflow/stream_executor/cuda/cuda_dnn.cc:369] Loaded cuDNN version 8005\n"
     ]
    },
    {
     "name": "stdout",
     "output_type": "stream",
     "text": [
      "50/50 [==============================] - 26s 200ms/step - loss: 0.6424 - acc: 0.6980 - val_loss: 0.5167 - val_acc: 0.7200\n",
      "Epoch 2/25\n",
      "50/50 [==============================] - 7s 147ms/step - loss: 0.4023 - acc: 0.8160 - val_loss: 0.5198 - val_acc: 0.8100\n",
      "Epoch 3/25\n",
      "50/50 [==============================] - 6s 119ms/step - loss: 0.3345 - acc: 0.8612 - val_loss: 0.5930 - val_acc: 0.7000\n",
      "Epoch 4/25\n",
      "50/50 [==============================] - 6s 119ms/step - loss: 0.2489 - acc: 0.8963 - val_loss: 0.4956 - val_acc: 0.8200\n",
      "Epoch 5/25\n",
      "50/50 [==============================] - 6s 127ms/step - loss: 0.2127 - acc: 0.9150 - val_loss: 0.5872 - val_acc: 0.7600\n",
      "Epoch 6/25\n",
      "50/50 [==============================] - 6s 110ms/step - loss: 0.1908 - acc: 0.9245 - val_loss: 0.5143 - val_acc: 0.7900\n",
      "Epoch 7/25\n",
      "50/50 [==============================] - 6s 112ms/step - loss: 0.1876 - acc: 0.9194 - val_loss: 0.5598 - val_acc: 0.7500\n",
      "Epoch 8/25\n",
      "50/50 [==============================] - 6s 119ms/step - loss: 0.1283 - acc: 0.9524 - val_loss: 0.6286 - val_acc: 0.7400\n",
      "Epoch 9/25\n",
      "50/50 [==============================] - 6s 120ms/step - loss: 0.1110 - acc: 0.9650 - val_loss: 0.6293 - val_acc: 0.7700\n",
      "Epoch 10/25\n",
      "50/50 [==============================] - 6s 115ms/step - loss: 0.0901 - acc: 0.9731 - val_loss: 0.6756 - val_acc: 0.7700\n",
      "Epoch 11/25\n",
      "50/50 [==============================] - 6s 116ms/step - loss: 0.0714 - acc: 0.9803 - val_loss: 0.5881 - val_acc: 0.7700\n",
      "Epoch 12/25\n",
      "50/50 [==============================] - 6s 120ms/step - loss: 0.0610 - acc: 0.9867 - val_loss: 0.7757 - val_acc: 0.7400\n",
      "Epoch 13/25\n",
      "50/50 [==============================] - 6s 120ms/step - loss: 0.0515 - acc: 0.9892 - val_loss: 0.6969 - val_acc: 0.7500\n",
      "Epoch 14/25\n",
      "50/50 [==============================] - 6s 111ms/step - loss: 0.0362 - acc: 0.9949 - val_loss: 0.7165 - val_acc: 0.7300\n",
      "Epoch 15/25\n",
      "50/50 [==============================] - 5s 108ms/step - loss: 0.0282 - acc: 0.9981 - val_loss: 0.7309 - val_acc: 0.7400\n",
      "Epoch 16/25\n",
      "50/50 [==============================] - 6s 120ms/step - loss: 0.0238 - acc: 0.9994 - val_loss: 0.7526 - val_acc: 0.7400\n",
      "Epoch 17/25\n",
      "50/50 [==============================] - 6s 110ms/step - loss: 0.0158 - acc: 1.0000 - val_loss: 0.7915 - val_acc: 0.7300\n",
      "Epoch 18/25\n",
      "50/50 [==============================] - 6s 112ms/step - loss: 0.0192 - acc: 0.9962 - val_loss: 0.8116 - val_acc: 0.7400\n",
      "Epoch 19/25\n",
      "50/50 [==============================] - 6s 122ms/step - loss: 0.0127 - acc: 0.9994 - val_loss: 0.8619 - val_acc: 0.7300\n",
      "Epoch 20/25\n",
      "50/50 [==============================] - 6s 115ms/step - loss: 0.0094 - acc: 1.0000 - val_loss: 0.8841 - val_acc: 0.7300\n",
      "Epoch 21/25\n",
      "50/50 [==============================] - 6s 123ms/step - loss: 0.0074 - acc: 1.0000 - val_loss: 0.8525 - val_acc: 0.7300\n",
      "Epoch 22/25\n",
      "50/50 [==============================] - 6s 115ms/step - loss: 0.0062 - acc: 1.0000 - val_loss: 0.8392 - val_acc: 0.7500\n",
      "Epoch 23/25\n",
      "50/50 [==============================] - 7s 132ms/step - loss: 0.0037 - acc: 1.0000 - val_loss: 0.8913 - val_acc: 0.7400\n",
      "Epoch 24/25\n",
      "50/50 [==============================] - 6s 113ms/step - loss: 0.0034 - acc: 1.0000 - val_loss: 0.8956 - val_acc: 0.7300\n",
      "Epoch 25/25\n",
      "50/50 [==============================] - 6s 117ms/step - loss: 0.0026 - acc: 1.0000 - val_loss: 0.9027 - val_acc: 0.7300\n"
     ]
    }
   ],
   "source": [
    "histroy_1 = model.fit(traindata, validation_data = validdata,steps_per_epoch = 50, epochs = 25 )"
   ]
  },
  {
   "cell_type": "code",
   "execution_count": 8,
   "id": "37c9fe6f",
   "metadata": {
    "collapsed": true,
    "execution": {
     "iopub.execute_input": "2023-01-14T22:26:43.621477Z",
     "iopub.status.busy": "2023-01-14T22:26:43.620803Z",
     "iopub.status.idle": "2023-01-14T22:26:45.517001Z",
     "shell.execute_reply": "2023-01-14T22:26:45.515924Z"
    },
    "jupyter": {
     "outputs_hidden": true,
     "source_hidden": true
    },
    "papermill": {
     "duration": 1.9687,
     "end_time": "2023-01-14T22:26:45.519054",
     "exception": false,
     "start_time": "2023-01-14T22:26:43.550354",
     "status": "completed"
    },
    "tags": []
   },
   "outputs": [
    {
     "name": "stdout",
     "output_type": "stream",
     "text": [
      "10/10 [==============================] - 2s 164ms/step - loss: 0.7795 - acc: 0.8267\n"
     ]
    },
    {
     "data": {
      "text/plain": [
       "[0.7795234322547913, 0.8266666531562805]"
      ]
     },
     "execution_count": 8,
     "metadata": {},
     "output_type": "execute_result"
    }
   ],
   "source": [
    "model.evaluate(testdata)"
   ]
  },
  {
   "cell_type": "code",
   "execution_count": 9,
   "id": "42bb5e3c",
   "metadata": {
    "collapsed": true,
    "execution": {
     "iopub.execute_input": "2023-01-14T22:26:45.661813Z",
     "iopub.status.busy": "2023-01-14T22:26:45.661105Z",
     "iopub.status.idle": "2023-01-14T22:26:56.046021Z",
     "shell.execute_reply": "2023-01-14T22:26:56.045020Z"
    },
    "jupyter": {
     "outputs_hidden": true,
     "source_hidden": true
    },
    "papermill": {
     "duration": 10.458811,
     "end_time": "2023-01-14T22:26:56.048537",
     "exception": false,
     "start_time": "2023-01-14T22:26:45.589726",
     "status": "completed"
    },
    "tags": []
   },
   "outputs": [
    {
     "name": "stdout",
     "output_type": "stream",
     "text": [
      "80/80 [==============================] - 8s 100ms/step - loss: 0.0024 - acc: 1.0000\n"
     ]
    },
    {
     "data": {
      "text/plain": [
       "[0.0023597124963998795, 1.0]"
      ]
     },
     "execution_count": 9,
     "metadata": {},
     "output_type": "execute_result"
    }
   ],
   "source": [
    "model.evaluate(traindata)"
   ]
  },
  {
   "cell_type": "code",
   "execution_count": 10,
   "id": "49a11c99",
   "metadata": {
    "execution": {
     "iopub.execute_input": "2023-01-14T22:26:56.264208Z",
     "iopub.status.busy": "2023-01-14T22:26:56.263829Z",
     "iopub.status.idle": "2023-01-14T22:26:56.447623Z",
     "shell.execute_reply": "2023-01-14T22:26:56.446623Z"
    },
    "jupyter": {
     "source_hidden": true
    },
    "papermill": {
     "duration": 0.288785,
     "end_time": "2023-01-14T22:26:56.450293",
     "exception": false,
     "start_time": "2023-01-14T22:26:56.161508",
     "status": "completed"
    },
    "tags": []
   },
   "outputs": [],
   "source": [
    "model.save(\"mobile.h5\")"
   ]
  },
  {
   "cell_type": "markdown",
   "id": "9ee2a80b",
   "metadata": {
    "papermill": {
     "duration": 0.074137,
     "end_time": "2023-01-14T22:26:56.599704",
     "exception": false,
     "start_time": "2023-01-14T22:26:56.525567",
     "status": "completed"
    },
    "tags": []
   },
   "source": [
    "# inception"
   ]
  },
  {
   "cell_type": "code",
   "execution_count": 11,
   "id": "940a844e",
   "metadata": {
    "execution": {
     "iopub.execute_input": "2023-01-14T22:26:56.751092Z",
     "iopub.status.busy": "2023-01-14T22:26:56.750397Z",
     "iopub.status.idle": "2023-01-14T22:26:59.058631Z",
     "shell.execute_reply": "2023-01-14T22:26:59.057690Z"
    },
    "jupyter": {
     "source_hidden": true
    },
    "papermill": {
     "duration": 2.386593,
     "end_time": "2023-01-14T22:26:59.061106",
     "exception": false,
     "start_time": "2023-01-14T22:26:56.674513",
     "status": "completed"
    },
    "tags": []
   },
   "outputs": [
    {
     "name": "stdout",
     "output_type": "stream",
     "text": [
      "Downloading data from https://storage.googleapis.com/tensorflow/keras-applications/inception_v3/inception_v3_weights_tf_dim_ordering_tf_kernels_notop.h5\n",
      "87916544/87910968 [==============================] - 0s 0us/step\n",
      "87924736/87910968 [==============================] - 0s 0us/step\n"
     ]
    }
   ],
   "source": [
    "def create_inception_model():\n",
    "    from tensorflow.keras.applications.inception_v3 import InceptionV3\n",
    "    base_model = InceptionV3(input_shape = (photo_size, photo_size, 3), include_top = False, weights = 'imagenet')\n",
    "    for layer in base_model.layers:\n",
    "        layer.trainable = False\n",
    "    # for layer_idx in range(len(pretrained_model.layers)):\n",
    "    #     if layer_idx not in [1,2,3,305,306,307,308,309,310]:\n",
    "    #         pretrained_model.layers[layer_idx].trainable = False\n",
    "    from tensorflow.keras.optimizers import RMSprop\n",
    "    from tensorflow.keras import layers\n",
    "    x = layers.Flatten()(base_model.output)\n",
    "    x = layers.Dense(512, activation='relu')(x)\n",
    "    x = layers.Dropout(0.2)(x)\n",
    "\n",
    "    # Add a final sigmoid layer with 1 node for classification output\n",
    "    x = layers.Dense(1, activation='sigmoid')(x)\n",
    "    model = tf.keras.models.Model(base_model.input, x)\n",
    "    model.compile(optimizer = RMSprop(learning_rate=0.0001),   loss=tf.keras.losses.BinaryCrossentropy(), metrics = ['accuracy'])\n",
    "    return model\n",
    "inception_model=create_inception_model()\n"
   ]
  },
  {
   "cell_type": "code",
   "execution_count": 12,
   "id": "1e049ea7",
   "metadata": {
    "collapsed": true,
    "execution": {
     "iopub.execute_input": "2023-01-14T22:26:59.213040Z",
     "iopub.status.busy": "2023-01-14T22:26:59.212677Z",
     "iopub.status.idle": "2023-01-14T22:31:19.403727Z",
     "shell.execute_reply": "2023-01-14T22:31:19.402663Z"
    },
    "jupyter": {
     "outputs_hidden": true,
     "source_hidden": true
    },
    "papermill": {
     "duration": 260.270878,
     "end_time": "2023-01-14T22:31:19.406299",
     "exception": false,
     "start_time": "2023-01-14T22:26:59.135421",
     "status": "completed"
    },
    "tags": []
   },
   "outputs": [
    {
     "name": "stdout",
     "output_type": "stream",
     "text": [
      "Epoch 1/30\n",
      "50/50 [==============================] - 11s 149ms/step - loss: 1.3934 - accuracy: 0.6510 - val_loss: 0.5256 - val_accuracy: 0.6900\n",
      "Epoch 2/30\n",
      "50/50 [==============================] - 6s 112ms/step - loss: 0.6093 - accuracy: 0.7189 - val_loss: 0.6176 - val_accuracy: 0.7000\n",
      "Epoch 3/30\n",
      "50/50 [==============================] - 6s 118ms/step - loss: 0.5117 - accuracy: 0.7456 - val_loss: 0.5140 - val_accuracy: 0.7400\n",
      "Epoch 4/30\n",
      "50/50 [==============================] - 6s 111ms/step - loss: 0.4440 - accuracy: 0.8046 - val_loss: 0.5139 - val_accuracy: 0.7800\n",
      "Epoch 5/30\n",
      "50/50 [==============================] - 6s 112ms/step - loss: 0.4271 - accuracy: 0.8169 - val_loss: 0.6325 - val_accuracy: 0.7300\n",
      "Epoch 6/30\n",
      "50/50 [==============================] - 6s 115ms/step - loss: 0.3860 - accuracy: 0.8281 - val_loss: 0.4654 - val_accuracy: 0.8100\n",
      "Epoch 7/30\n",
      "50/50 [==============================] - 6s 113ms/step - loss: 0.3170 - accuracy: 0.8585 - val_loss: 0.6580 - val_accuracy: 0.7500\n",
      "Epoch 8/30\n",
      "50/50 [==============================] - 6s 111ms/step - loss: 0.2890 - accuracy: 0.8694 - val_loss: 0.7043 - val_accuracy: 0.7000\n",
      "Epoch 9/30\n",
      "50/50 [==============================] - 6s 111ms/step - loss: 0.2522 - accuracy: 0.8969 - val_loss: 0.5196 - val_accuracy: 0.7900\n",
      "Epoch 10/30\n",
      "50/50 [==============================] - 6s 114ms/step - loss: 0.1965 - accuracy: 0.9207 - val_loss: 0.4994 - val_accuracy: 0.7800\n",
      "Epoch 11/30\n",
      "50/50 [==============================] - 5s 108ms/step - loss: 0.2046 - accuracy: 0.9212 - val_loss: 0.5948 - val_accuracy: 0.8200\n",
      "Epoch 12/30\n",
      "50/50 [==============================] - 5s 106ms/step - loss: 0.1654 - accuracy: 0.9372 - val_loss: 0.6747 - val_accuracy: 0.7300\n",
      "Epoch 13/30\n",
      "50/50 [==============================] - 6s 119ms/step - loss: 0.1430 - accuracy: 0.9461 - val_loss: 0.7725 - val_accuracy: 0.7600\n",
      "Epoch 14/30\n",
      "50/50 [==============================] - 6s 113ms/step - loss: 0.1427 - accuracy: 0.9486 - val_loss: 0.7533 - val_accuracy: 0.7400\n",
      "Epoch 15/30\n",
      "50/50 [==============================] - 6s 112ms/step - loss: 0.0981 - accuracy: 0.9594 - val_loss: 0.6890 - val_accuracy: 0.7700\n",
      "Epoch 16/30\n",
      "50/50 [==============================] - 6s 109ms/step - loss: 0.0929 - accuracy: 0.9695 - val_loss: 0.6792 - val_accuracy: 0.8000\n",
      "Epoch 17/30\n",
      "50/50 [==============================] - 6s 120ms/step - loss: 0.0892 - accuracy: 0.9737 - val_loss: 0.7097 - val_accuracy: 0.7800\n",
      "Epoch 18/30\n",
      "50/50 [==============================] - 5s 108ms/step - loss: 0.0588 - accuracy: 0.9803 - val_loss: 0.8274 - val_accuracy: 0.8200\n",
      "Epoch 19/30\n",
      "50/50 [==============================] - 5s 107ms/step - loss: 0.0833 - accuracy: 0.9712 - val_loss: 0.7688 - val_accuracy: 0.8000\n",
      "Epoch 20/30\n",
      "50/50 [==============================] - 6s 109ms/step - loss: 0.0697 - accuracy: 0.9772 - val_loss: 0.7104 - val_accuracy: 0.8300\n",
      "Epoch 21/30\n",
      "50/50 [==============================] - 5s 105ms/step - loss: 0.0406 - accuracy: 0.9862 - val_loss: 0.7754 - val_accuracy: 0.8000\n",
      "Epoch 22/30\n",
      "50/50 [==============================] - 6s 123ms/step - loss: 0.0683 - accuracy: 0.9810 - val_loss: 0.7300 - val_accuracy: 0.8300\n",
      "Epoch 23/30\n",
      "50/50 [==============================] - 6s 118ms/step - loss: 0.0318 - accuracy: 0.9918 - val_loss: 0.8889 - val_accuracy: 0.7800\n",
      "Epoch 24/30\n",
      "50/50 [==============================] - 5s 104ms/step - loss: 0.0821 - accuracy: 0.9791 - val_loss: 0.7257 - val_accuracy: 0.8500\n",
      "Epoch 25/30\n",
      "50/50 [==============================] - 5s 105ms/step - loss: 0.0381 - accuracy: 0.9887 - val_loss: 0.8307 - val_accuracy: 0.7900\n",
      "Epoch 26/30\n",
      "50/50 [==============================] - 6s 115ms/step - loss: 0.0334 - accuracy: 0.9898 - val_loss: 0.7811 - val_accuracy: 0.8500\n",
      "Epoch 27/30\n",
      "50/50 [==============================] - 5s 106ms/step - loss: 0.0640 - accuracy: 0.9841 - val_loss: 0.8419 - val_accuracy: 0.8200\n",
      "Epoch 28/30\n",
      "50/50 [==============================] - 5s 104ms/step - loss: 0.0692 - accuracy: 0.9829 - val_loss: 0.7685 - val_accuracy: 0.8200\n",
      "Epoch 29/30\n",
      "50/50 [==============================] - 6s 113ms/step - loss: 0.0702 - accuracy: 0.9862 - val_loss: 1.8548 - val_accuracy: 0.6300\n",
      "Epoch 30/30\n",
      "50/50 [==============================] - 5s 107ms/step - loss: 0.0055 - accuracy: 0.9987 - val_loss: 0.9564 - val_accuracy: 0.8300\n"
     ]
    }
   ],
   "source": [
    "incephist = inception_model.fit(traindata,validation_data=validdata,steps_per_epoch=50, epochs=30)"
   ]
  },
  {
   "cell_type": "code",
   "execution_count": 13,
   "id": "f11d8af6",
   "metadata": {
    "collapsed": true,
    "execution": {
     "iopub.execute_input": "2023-01-14T22:31:19.714828Z",
     "iopub.status.busy": "2023-01-14T22:31:19.713904Z",
     "iopub.status.idle": "2023-01-14T22:31:30.178211Z",
     "shell.execute_reply": "2023-01-14T22:31:30.177333Z"
    },
    "jupyter": {
     "outputs_hidden": true,
     "source_hidden": true
    },
    "papermill": {
     "duration": 10.620721,
     "end_time": "2023-01-14T22:31:30.180302",
     "exception": false,
     "start_time": "2023-01-14T22:31:19.559581",
     "status": "completed"
    },
    "tags": []
   },
   "outputs": [
    {
     "name": "stdout",
     "output_type": "stream",
     "text": [
      "80/80 [==============================] - 8s 95ms/step - loss: 0.0122 - accuracy: 0.9992\n"
     ]
    },
    {
     "data": {
      "text/plain": [
       "[0.012217245995998383, 0.9992113709449768]"
      ]
     },
     "execution_count": 13,
     "metadata": {},
     "output_type": "execute_result"
    }
   ],
   "source": [
    "inception_model.evaluate(traindata)"
   ]
  },
  {
   "cell_type": "code",
   "execution_count": 14,
   "id": "130959cc",
   "metadata": {
    "collapsed": true,
    "execution": {
     "iopub.execute_input": "2023-01-14T22:31:30.503751Z",
     "iopub.status.busy": "2023-01-14T22:31:30.503385Z",
     "iopub.status.idle": "2023-01-14T22:31:32.162067Z",
     "shell.execute_reply": "2023-01-14T22:31:32.161178Z"
    },
    "jupyter": {
     "outputs_hidden": true,
     "source_hidden": true
    },
    "papermill": {
     "duration": 1.825366,
     "end_time": "2023-01-14T22:31:32.164109",
     "exception": false,
     "start_time": "2023-01-14T22:31:30.338743",
     "status": "completed"
    },
    "tags": []
   },
   "outputs": [
    {
     "name": "stdout",
     "output_type": "stream",
     "text": [
      "10/10 [==============================] - 2s 140ms/step - loss: 0.9453 - accuracy: 0.8033\n"
     ]
    },
    {
     "data": {
      "text/plain": [
       "[0.9453322291374207, 0.8033333420753479]"
      ]
     },
     "execution_count": 14,
     "metadata": {},
     "output_type": "execute_result"
    }
   ],
   "source": [
    "inception_model.evaluate(testdata)"
   ]
  },
  {
   "cell_type": "code",
   "execution_count": 15,
   "id": "5e41237d",
   "metadata": {
    "execution": {
     "iopub.execute_input": "2023-01-14T22:31:32.545683Z",
     "iopub.status.busy": "2023-01-14T22:31:32.544438Z",
     "iopub.status.idle": "2023-01-14T22:31:33.648026Z",
     "shell.execute_reply": "2023-01-14T22:31:33.647037Z"
    },
    "jupyter": {
     "source_hidden": true
    },
    "papermill": {
     "duration": 1.27777,
     "end_time": "2023-01-14T22:31:33.650564",
     "exception": false,
     "start_time": "2023-01-14T22:31:32.372794",
     "status": "completed"
    },
    "tags": []
   },
   "outputs": [],
   "source": [
    "inception_model.save(\"inception.h5\")"
   ]
  },
  {
   "cell_type": "markdown",
   "id": "730994c7",
   "metadata": {
    "papermill": {
     "duration": 0.15698,
     "end_time": "2023-01-14T22:31:33.963349",
     "exception": false,
     "start_time": "2023-01-14T22:31:33.806369",
     "status": "completed"
    },
    "tags": []
   },
   "source": [
    "# vgg"
   ]
  },
  {
   "cell_type": "code",
   "execution_count": 16,
   "id": "60ea28e5",
   "metadata": {
    "collapsed": true,
    "execution": {
     "iopub.execute_input": "2023-01-14T22:31:34.279175Z",
     "iopub.status.busy": "2023-01-14T22:31:34.278171Z",
     "iopub.status.idle": "2023-01-14T22:31:34.918461Z",
     "shell.execute_reply": "2023-01-14T22:31:34.917442Z"
    },
    "jupyter": {
     "outputs_hidden": true,
     "source_hidden": true
    },
    "papermill": {
     "duration": 0.801444,
     "end_time": "2023-01-14T22:31:34.920830",
     "exception": false,
     "start_time": "2023-01-14T22:31:34.119386",
     "status": "completed"
    },
    "tags": []
   },
   "outputs": [
    {
     "name": "stdout",
     "output_type": "stream",
     "text": [
      "Downloading data from https://storage.googleapis.com/tensorflow/keras-applications/vgg16/vgg16_weights_tf_dim_ordering_tf_kernels_notop.h5\n",
      "58892288/58889256 [==============================] - 0s 0us/step\n",
      "58900480/58889256 [==============================] - 0s 0us/step\n"
     ]
    }
   ],
   "source": [
    "def create_vgg_model():\n",
    "    # load model without classifier layers\n",
    "    model = VGG16(include_top=False, input_shape=(photo_size, photo_size, 3))\n",
    "    \"\"\"for layer_idx in range(len(model.layers)):\n",
    "        if layer_idx not in [1,2,3,15,16,17,18]:\n",
    "            model.layers[layer_idx].trainable = False\"\"\"\n",
    "    # add new classifier layers\n",
    "    flat1 = Flatten()(model.layers[-1].output)\n",
    "    class1 = Dense(64, activation='relu')(flat1)\n",
    "    output = Dense(1, activation='sigmoid')(class1)\n",
    "    # define new model\n",
    "    model = Model(inputs=model.inputs, outputs=output)\n",
    "    return model\n",
    "vgg_model=create_vgg_model()\n",
    "vgg_model.compile(optimizer=Adam(learning_rate=0.0001), loss=tf.keras.losses.BinaryCrossentropy()\n",
    ", metrics=['accuracy'])"
   ]
  },
  {
   "cell_type": "code",
   "execution_count": 17,
   "id": "04da7c67",
   "metadata": {
    "collapsed": true,
    "execution": {
     "iopub.execute_input": "2023-01-14T22:31:35.350794Z",
     "iopub.status.busy": "2023-01-14T22:31:35.350360Z",
     "iopub.status.idle": "2023-01-14T22:39:06.170040Z",
     "shell.execute_reply": "2023-01-14T22:39:06.169093Z"
    },
    "jupyter": {
     "outputs_hidden": true,
     "source_hidden": true
    },
    "papermill": {
     "duration": 451.090205,
     "end_time": "2023-01-14T22:39:06.172250",
     "exception": false,
     "start_time": "2023-01-14T22:31:35.082045",
     "status": "completed"
    },
    "tags": []
   },
   "outputs": [
    {
     "name": "stdout",
     "output_type": "stream",
     "text": [
      "Epoch 1/30\n",
      "40/40 [==============================] - 17s 289ms/step - loss: 0.6764 - accuracy: 0.5953 - val_loss: 0.6461 - val_accuracy: 0.7100\n",
      "Epoch 2/30\n",
      "40/40 [==============================] - 11s 271ms/step - loss: 0.5898 - accuracy: 0.6898 - val_loss: 0.7172 - val_accuracy: 0.6200\n",
      "Epoch 3/30\n",
      "40/40 [==============================] - 11s 267ms/step - loss: 0.5419 - accuracy: 0.7375 - val_loss: 0.4936 - val_accuracy: 0.7500\n",
      "Epoch 4/30\n",
      "40/40 [==============================] - 12s 299ms/step - loss: 0.4783 - accuracy: 0.7707 - val_loss: 0.4682 - val_accuracy: 0.7500\n",
      "Epoch 5/30\n",
      "40/40 [==============================] - 11s 262ms/step - loss: 0.4616 - accuracy: 0.7994 - val_loss: 0.4853 - val_accuracy: 0.7500\n",
      "Epoch 6/30\n",
      "40/40 [==============================] - 11s 268ms/step - loss: 0.4163 - accuracy: 0.8133 - val_loss: 0.5162 - val_accuracy: 0.7300\n",
      "Epoch 7/30\n",
      "40/40 [==============================] - 11s 264ms/step - loss: 0.3816 - accuracy: 0.8264 - val_loss: 0.6088 - val_accuracy: 0.7400\n",
      "Epoch 8/30\n",
      "40/40 [==============================] - 11s 266ms/step - loss: 0.3580 - accuracy: 0.8477 - val_loss: 0.4940 - val_accuracy: 0.7700\n",
      "Epoch 9/30\n",
      "40/40 [==============================] - 11s 263ms/step - loss: 0.3417 - accuracy: 0.8543 - val_loss: 0.4541 - val_accuracy: 0.7700\n",
      "Epoch 10/30\n",
      "40/40 [==============================] - 11s 266ms/step - loss: 0.3295 - accuracy: 0.8531 - val_loss: 0.4393 - val_accuracy: 0.8400\n",
      "Epoch 11/30\n",
      "40/40 [==============================] - 11s 266ms/step - loss: 0.3229 - accuracy: 0.8654 - val_loss: 0.4660 - val_accuracy: 0.8100\n",
      "Epoch 12/30\n",
      "40/40 [==============================] - 11s 265ms/step - loss: 0.2892 - accuracy: 0.8734 - val_loss: 0.4980 - val_accuracy: 0.7900\n",
      "Epoch 13/30\n",
      "40/40 [==============================] - 11s 263ms/step - loss: 0.2666 - accuracy: 0.8854 - val_loss: 0.4686 - val_accuracy: 0.7700\n",
      "Epoch 14/30\n",
      "40/40 [==============================] - 11s 266ms/step - loss: 0.2341 - accuracy: 0.9156 - val_loss: 0.7372 - val_accuracy: 0.7800\n",
      "Epoch 15/30\n",
      "40/40 [==============================] - 11s 267ms/step - loss: 0.2037 - accuracy: 0.9094 - val_loss: 0.7276 - val_accuracy: 0.7900\n",
      "Epoch 16/30\n",
      "40/40 [==============================] - 11s 266ms/step - loss: 0.1861 - accuracy: 0.9266 - val_loss: 0.6729 - val_accuracy: 0.7900\n",
      "Epoch 17/30\n",
      "40/40 [==============================] - 11s 268ms/step - loss: 0.1937 - accuracy: 0.9220 - val_loss: 0.5736 - val_accuracy: 0.8000\n",
      "Epoch 18/30\n",
      "40/40 [==============================] - 11s 266ms/step - loss: 0.1467 - accuracy: 0.9430 - val_loss: 0.6353 - val_accuracy: 0.8300\n",
      "Epoch 19/30\n",
      "40/40 [==============================] - 11s 266ms/step - loss: 0.1384 - accuracy: 0.9469 - val_loss: 0.8297 - val_accuracy: 0.7900\n",
      "Epoch 20/30\n",
      "40/40 [==============================] - 11s 265ms/step - loss: 0.1080 - accuracy: 0.9617 - val_loss: 0.6142 - val_accuracy: 0.8300\n",
      "Epoch 21/30\n",
      "40/40 [==============================] - 11s 263ms/step - loss: 0.1206 - accuracy: 0.9594 - val_loss: 0.8352 - val_accuracy: 0.7400\n",
      "Epoch 22/30\n",
      "40/40 [==============================] - 11s 267ms/step - loss: 0.1102 - accuracy: 0.9586 - val_loss: 0.6667 - val_accuracy: 0.7900\n",
      "Epoch 23/30\n",
      "40/40 [==============================] - 11s 264ms/step - loss: 0.0733 - accuracy: 0.9713 - val_loss: 1.4614 - val_accuracy: 0.7100\n",
      "Epoch 24/30\n",
      "40/40 [==============================] - 11s 263ms/step - loss: 0.0925 - accuracy: 0.9642 - val_loss: 0.8258 - val_accuracy: 0.8100\n",
      "Epoch 25/30\n",
      "40/40 [==============================] - 11s 267ms/step - loss: 0.1381 - accuracy: 0.9484 - val_loss: 0.8715 - val_accuracy: 0.7100\n",
      "Epoch 26/30\n",
      "40/40 [==============================] - 11s 267ms/step - loss: 0.0868 - accuracy: 0.9648 - val_loss: 0.7928 - val_accuracy: 0.8100\n",
      "Epoch 27/30\n",
      "40/40 [==============================] - 10s 266ms/step - loss: 0.0393 - accuracy: 0.9865 - val_loss: 0.9934 - val_accuracy: 0.7900\n",
      "Epoch 28/30\n",
      "40/40 [==============================] - 11s 262ms/step - loss: 0.0446 - accuracy: 0.9833 - val_loss: 1.0541 - val_accuracy: 0.8000\n",
      "Epoch 29/30\n",
      "40/40 [==============================] - 11s 264ms/step - loss: 0.0182 - accuracy: 0.9952 - val_loss: 1.3247 - val_accuracy: 0.7900\n",
      "Epoch 30/30\n",
      "40/40 [==============================] - 11s 267ms/step - loss: 0.0262 - accuracy: 0.9930 - val_loss: 1.3626 - val_accuracy: 0.7900\n"
     ]
    }
   ],
   "source": [
    "vgghist=vgg_model.fit(traindata,validation_data=validdata, epochs=30, steps_per_epoch = 40)"
   ]
  },
  {
   "cell_type": "code",
   "execution_count": 18,
   "id": "912ff5fc",
   "metadata": {
    "collapsed": true,
    "execution": {
     "iopub.execute_input": "2023-01-14T22:39:06.616980Z",
     "iopub.status.busy": "2023-01-14T22:39:06.616302Z",
     "iopub.status.idle": "2023-01-14T22:39:14.579315Z",
     "shell.execute_reply": "2023-01-14T22:39:14.578308Z"
    },
    "jupyter": {
     "outputs_hidden": true,
     "source_hidden": true
    },
    "papermill": {
     "duration": 8.187654,
     "end_time": "2023-01-14T22:39:14.581359",
     "exception": false,
     "start_time": "2023-01-14T22:39:06.393705",
     "status": "completed"
    },
    "tags": []
   },
   "outputs": [
    {
     "name": "stdout",
     "output_type": "stream",
     "text": [
      "80/80 [==============================] - 8s 97ms/step - loss: 0.0344 - accuracy: 0.9886\n"
     ]
    },
    {
     "data": {
      "text/plain": [
       "[0.034353096038103104, 0.988564670085907]"
      ]
     },
     "execution_count": 18,
     "metadata": {},
     "output_type": "execute_result"
    }
   ],
   "source": [
    "vgg_model.evaluate(traindata)"
   ]
  },
  {
   "cell_type": "code",
   "execution_count": 19,
   "id": "c2c0b1af",
   "metadata": {
    "collapsed": true,
    "execution": {
     "iopub.execute_input": "2023-01-14T22:39:15.102231Z",
     "iopub.status.busy": "2023-01-14T22:39:15.101843Z",
     "iopub.status.idle": "2023-01-14T22:39:18.000859Z",
     "shell.execute_reply": "2023-01-14T22:39:17.999863Z"
    },
    "jupyter": {
     "outputs_hidden": true,
     "source_hidden": true
    },
    "papermill": {
     "duration": 3.136332,
     "end_time": "2023-01-14T22:39:18.002874",
     "exception": false,
     "start_time": "2023-01-14T22:39:14.866542",
     "status": "completed"
    },
    "tags": []
   },
   "outputs": [
    {
     "name": "stdout",
     "output_type": "stream",
     "text": [
      "10/10 [==============================] - 3s 281ms/step - loss: 0.7392 - accuracy: 0.8467\n"
     ]
    },
    {
     "data": {
      "text/plain": [
       "[0.7391785383224487, 0.846666693687439]"
      ]
     },
     "execution_count": 19,
     "metadata": {},
     "output_type": "execute_result"
    }
   ],
   "source": [
    "vgg_model.evaluate(testdata)"
   ]
  },
  {
   "cell_type": "code",
   "execution_count": 20,
   "id": "22ee58b0",
   "metadata": {
    "execution": {
     "iopub.execute_input": "2023-01-14T22:39:18.458101Z",
     "iopub.status.busy": "2023-01-14T22:39:18.457084Z",
     "iopub.status.idle": "2023-01-14T22:39:18.829463Z",
     "shell.execute_reply": "2023-01-14T22:39:18.828482Z"
    },
    "jupyter": {
     "source_hidden": true
    },
    "papermill": {
     "duration": 0.603627,
     "end_time": "2023-01-14T22:39:18.831910",
     "exception": false,
     "start_time": "2023-01-14T22:39:18.228283",
     "status": "completed"
    },
    "tags": []
   },
   "outputs": [],
   "source": [
    "vgg_model.save(\"vgg16_model.h5\")"
   ]
  },
  {
   "cell_type": "markdown",
   "id": "1d784f01",
   "metadata": {
    "papermill": {
     "duration": 0.224915,
     "end_time": "2023-01-14T22:39:19.282480",
     "exception": false,
     "start_time": "2023-01-14T22:39:19.057565",
     "status": "completed"
    },
    "tags": []
   },
   "source": [
    "# Stacking"
   ]
  },
  {
   "cell_type": "code",
   "execution_count": 21,
   "id": "f8962ff2",
   "metadata": {
    "execution": {
     "iopub.execute_input": "2023-01-14T22:39:19.738696Z",
     "iopub.status.busy": "2023-01-14T22:39:19.738333Z",
     "iopub.status.idle": "2023-01-14T22:39:19.748534Z",
     "shell.execute_reply": "2023-01-14T22:39:19.747440Z"
    },
    "papermill": {
     "duration": 0.240745,
     "end_time": "2023-01-14T22:39:19.751095",
     "exception": false,
     "start_time": "2023-01-14T22:39:19.510350",
     "status": "completed"
    },
    "tags": []
   },
   "outputs": [],
   "source": [
    "def recall_m(y_true, y_pred):\n",
    "    true_positives = K.sum(K.round(K.clip(y_true * y_pred, 0, 1)))\n",
    "    possible_positives = K.sum(K.round(K.clip(y_true, 0, 1)))\n",
    "    recall = true_positives / (possible_positives + K.epsilon())\n",
    "    return recall\n",
    "\n",
    "\n",
    "def precision_m(y_true, y_pred):\n",
    "    true_positives = K.sum(K.round(K.clip(y_true * y_pred, 0, 1)))\n",
    "    predicted_positives = K.sum(K.round(K.clip(y_pred, 0, 1)))\n",
    "    precision = true_positives / (predicted_positives + K.epsilon())\n",
    "    return precision\n",
    "\n",
    "def f1_m(y_true, y_pred):\n",
    "    precision = precision_m(y_true, y_pred)\n",
    "    recall = recall_m(y_true, y_pred)\n",
    "    return 2*((precision*recall)/(precision+recall+K.epsilon()))\n",
    "\n",
    "def f1_m(y_true, y_pred):\n",
    "    precision = precision_m(y_true, y_pred)\n",
    "    recall = recall_m(y_true, y_pred)\n",
    "    return 2*((precision*recall)/(precision+recall+K.epsilon()))\n",
    "\n",
    "def acc(y_true, y_pred):\n",
    "    tp = 0\n",
    "    total = 0\n",
    "    \n",
    "    for i in range(len(y_true)):\n",
    "        if y_true[i] == y_pred[i]:\n",
    "            tp+=1\n",
    "        total+=1\n",
    "    return (tp / total)*100\n",
    "\n",
    "\n",
    "dependencies = {'KerasLayer':hub.KerasLayer,\n",
    "    'acc': f1_m }"
   ]
  },
  {
   "cell_type": "code",
   "execution_count": 22,
   "id": "84850719",
   "metadata": {
    "execution": {
     "iopub.execute_input": "2023-01-14T22:39:20.249895Z",
     "iopub.status.busy": "2023-01-14T22:39:20.249541Z",
     "iopub.status.idle": "2023-01-14T22:39:28.542170Z",
     "shell.execute_reply": "2023-01-14T22:39:28.541172Z"
    },
    "papermill": {
     "duration": 8.524245,
     "end_time": "2023-01-14T22:39:28.544482",
     "exception": false,
     "start_time": "2023-01-14T22:39:20.020237",
     "status": "completed"
    },
    "tags": []
   },
   "outputs": [
    {
     "data": {
      "text/plain": [
       "3345"
      ]
     },
     "execution_count": 22,
     "metadata": {},
     "output_type": "execute_result"
    }
   ],
   "source": [
    "import gc\n",
    "def read_data(list, photo_size = 256):  \n",
    "    data = []\n",
    "    for i in range(len(list)):\n",
    "        for filename in os.listdir(list[i]):\n",
    "            img  = cv2.imread(list[i] + filename)\n",
    "            img = cv2.resize(img,(photo_size,photo_size))\n",
    "            data.append([img, i])\n",
    "    \n",
    "    random.shuffle(data)\n",
    "    x = []\n",
    "    y = []\n",
    "    for i in range(len(data)):\n",
    "        x.append(data[i][0])\n",
    "        y.append(data[i][1])\n",
    "    \n",
    "    x = np.array(x)\n",
    "    y = np.array(y)\n",
    "    x = x / 255\n",
    "    return x, y\n",
    "\n",
    "train_add_autis = \"/kaggle/input/autistic-children-facial-data-set/train/autistic/\"\n",
    "train_add_nonautis = \"/kaggle/input/autistic-children-facial-data-set/train/non_autistic/\"\n",
    "x_train, y_train = read_data([train_add_autis, train_add_nonautis])\n",
    "gc.collect()"
   ]
  },
  {
   "cell_type": "code",
   "execution_count": 23,
   "id": "26567b21",
   "metadata": {
    "execution": {
     "iopub.execute_input": "2023-01-14T22:39:29.019281Z",
     "iopub.status.busy": "2023-01-14T22:39:29.018887Z",
     "iopub.status.idle": "2023-01-14T22:39:41.588138Z",
     "shell.execute_reply": "2023-01-14T22:39:41.587174Z"
    },
    "papermill": {
     "duration": 12.802601,
     "end_time": "2023-01-14T22:39:41.590442",
     "exception": false,
     "start_time": "2023-01-14T22:39:28.787841",
     "status": "completed"
    },
    "tags": []
   },
   "outputs": [
    {
     "data": {
      "text/plain": [
       "3135"
      ]
     },
     "execution_count": 23,
     "metadata": {},
     "output_type": "execute_result"
    }
   ],
   "source": [
    "all_models = []\n",
    "model = load_model(\"/kaggle/working/mobile.h5\",custom_objects=dependencies)\n",
    "all_models.append(model)\n",
    "\n",
    "model = load_model(\"/kaggle/working/vgg16_model.h5\",custom_objects=dependencies)\n",
    "all_models.append(model)\n",
    "\n",
    "model = load_model(\"/kaggle/working/inception.h5\",custom_objects=dependencies)\n",
    "all_models.append(model)\n",
    "gc.collect()"
   ]
  },
  {
   "cell_type": "code",
   "execution_count": 24,
   "id": "72888e82",
   "metadata": {
    "execution": {
     "iopub.execute_input": "2023-01-14T22:39:42.043771Z",
     "iopub.status.busy": "2023-01-14T22:39:42.043078Z",
     "iopub.status.idle": "2023-01-14T22:40:23.313675Z",
     "shell.execute_reply": "2023-01-14T22:40:23.311821Z"
    },
    "papermill": {
     "duration": 41.498818,
     "end_time": "2023-01-14T22:40:23.315821",
     "exception": false,
     "start_time": "2023-01-14T22:39:41.817003",
     "status": "completed"
    },
    "tags": []
   },
   "outputs": [
    {
     "name": "stderr",
     "output_type": "stream",
     "text": [
      "2023-01-14 22:39:45.133538: W tensorflow/core/framework/cpu_allocator_impl.cc:80] Allocation of 1994391552 exceeds 10% of free system memory.\n",
      "2023-01-14 22:39:47.644344: W tensorflow/core/framework/cpu_allocator_impl.cc:80] Allocation of 1994391552 exceeds 10% of free system memory.\n"
     ]
    },
    {
     "name": "stdout",
     "output_type": "stream",
     "text": [
      "(2536, 1)\n"
     ]
    },
    {
     "name": "stderr",
     "output_type": "stream",
     "text": [
      "2023-01-14 22:39:57.606202: W tensorflow/core/framework/cpu_allocator_impl.cc:80] Allocation of 1994391552 exceeds 10% of free system memory.\n",
      "2023-01-14 22:39:59.799621: W tensorflow/core/framework/cpu_allocator_impl.cc:80] Allocation of 1994391552 exceeds 10% of free system memory.\n"
     ]
    },
    {
     "name": "stdout",
     "output_type": "stream",
     "text": [
      "(2536, 1, 2)\n"
     ]
    },
    {
     "name": "stderr",
     "output_type": "stream",
     "text": [
      "2023-01-14 22:40:13.350232: W tensorflow/core/framework/cpu_allocator_impl.cc:80] Allocation of 1994391552 exceeds 10% of free system memory.\n"
     ]
    },
    {
     "name": "stdout",
     "output_type": "stream",
     "text": [
      "(2536, 1, 3)\n"
     ]
    }
   ],
   "source": [
    "stackX = None\n",
    "for model in all_models:\n",
    "    gc.collect()\n",
    "    # make prediction\n",
    "    yhat = model.predict(x_train, verbose=0)\n",
    "    # stack predictions into [rows, members, probabilities]\n",
    "    if stackX is None:\n",
    "        stackX = yhat #\n",
    "    else:\n",
    "        stackX = np.dstack((stackX, yhat))\n",
    "    print(stackX.shape)\n",
    "# flatten predictions to [rows, members x probabilities]\n",
    "    #stackX = stackX.reshape((stackX.shape[0], stackX.shape[1]*stackX.shape[2]))"
   ]
  },
  {
   "cell_type": "code",
   "execution_count": 25,
   "id": "4c2738cc",
   "metadata": {
    "execution": {
     "iopub.execute_input": "2023-01-14T22:40:23.773305Z",
     "iopub.status.busy": "2023-01-14T22:40:23.772912Z",
     "iopub.status.idle": "2023-01-14T22:40:24.532991Z",
     "shell.execute_reply": "2023-01-14T22:40:24.532079Z"
    },
    "papermill": {
     "duration": 0.990636,
     "end_time": "2023-01-14T22:40:24.535069",
     "exception": false,
     "start_time": "2023-01-14T22:40:23.544433",
     "status": "completed"
    },
    "tags": []
   },
   "outputs": [
    {
     "data": {
      "text/plain": [
       "785"
      ]
     },
     "execution_count": 25,
     "metadata": {},
     "output_type": "execute_result"
    }
   ],
   "source": [
    "stackX = stackX.reshape((stackX.shape[0], stackX.shape[1]*stackX.shape[2]))\n",
    "gc.collect()"
   ]
  },
  {
   "cell_type": "code",
   "execution_count": 26,
   "id": "d6e23f3e",
   "metadata": {
    "execution": {
     "iopub.execute_input": "2023-01-14T22:40:24.992045Z",
     "iopub.status.busy": "2023-01-14T22:40:24.991041Z",
     "iopub.status.idle": "2023-01-14T22:40:24.998279Z",
     "shell.execute_reply": "2023-01-14T22:40:24.997226Z"
    },
    "papermill": {
     "duration": 0.238973,
     "end_time": "2023-01-14T22:40:25.000364",
     "exception": false,
     "start_time": "2023-01-14T22:40:24.761391",
     "status": "completed"
    },
    "tags": []
   },
   "outputs": [],
   "source": [
    "def stacked_dataset(members, inputX):\n",
    "    stackX = None\n",
    "    for model in members:\n",
    "        gc.collect()\n",
    "        # make prediction\n",
    "        yhat = model.predict(inputX, verbose=0)\n",
    "        print(yhat.shape)\n",
    "        # stack predictions into [rows, members, probabilities]\n",
    "        if stackX is None:\n",
    "            stackX = yhat #\n",
    "        else:\n",
    "            stackX = np.dstack((stackX, yhat))\n",
    "    # flatten predictions to [rows, members x probabilities]\n",
    "    stackX = stackX.reshape((stackX.shape[0], stackX.shape[1]*stackX.shape[2]))\n",
    "    return stackX"
   ]
  },
  {
   "cell_type": "code",
   "execution_count": 27,
   "id": "148287b7",
   "metadata": {
    "execution": {
     "iopub.execute_input": "2023-01-14T22:40:25.501223Z",
     "iopub.status.busy": "2023-01-14T22:40:25.500838Z",
     "iopub.status.idle": "2023-01-14T22:40:25.505898Z",
     "shell.execute_reply": "2023-01-14T22:40:25.504963Z"
    },
    "papermill": {
     "duration": 0.279894,
     "end_time": "2023-01-14T22:40:25.508008",
     "exception": false,
     "start_time": "2023-01-14T22:40:25.228114",
     "status": "completed"
    },
    "tags": []
   },
   "outputs": [],
   "source": [
    "# fit a model based on the outputs from the ensemble members\n",
    "def fit_stacked_model(members, inputX, inputy):\n",
    "    # create dataset using ensemble\n",
    "    stackedX = stacked_dataset(members, inputX)\n",
    "    # fit the meta learner\n",
    "    model = LogisticRegression() #meta learner\n",
    "    model.fit(stackedX, inputy)\n",
    "    return model"
   ]
  },
  {
   "cell_type": "code",
   "execution_count": 28,
   "id": "1dda4039",
   "metadata": {
    "execution": {
     "iopub.execute_input": "2023-01-14T22:40:25.961828Z",
     "iopub.status.busy": "2023-01-14T22:40:25.961452Z",
     "iopub.status.idle": "2023-01-14T22:40:26.648020Z",
     "shell.execute_reply": "2023-01-14T22:40:26.647117Z"
    },
    "papermill": {
     "duration": 0.916418,
     "end_time": "2023-01-14T22:40:26.650725",
     "exception": false,
     "start_time": "2023-01-14T22:40:25.734307",
     "status": "completed"
    },
    "tags": []
   },
   "outputs": [
    {
     "data": {
      "text/plain": [
       "116"
      ]
     },
     "execution_count": 28,
     "metadata": {},
     "output_type": "execute_result"
    }
   ],
   "source": [
    "model = LogisticRegression() #meta learner\n",
    "model.fit(stackX, y_train)\n",
    "gc.collect()"
   ]
  },
  {
   "cell_type": "code",
   "execution_count": 29,
   "id": "d793dd34",
   "metadata": {
    "execution": {
     "iopub.execute_input": "2023-01-14T22:40:27.399635Z",
     "iopub.status.busy": "2023-01-14T22:40:27.399211Z",
     "iopub.status.idle": "2023-01-14T22:41:04.198135Z",
     "shell.execute_reply": "2023-01-14T22:41:04.197108Z"
    },
    "papermill": {
     "duration": 37.391738,
     "end_time": "2023-01-14T22:41:04.429215",
     "exception": false,
     "start_time": "2023-01-14T22:40:27.037477",
     "status": "completed"
    },
    "tags": []
   },
   "outputs": [
    {
     "name": "stdout",
     "output_type": "stream",
     "text": [
      "(2536, 1)\n",
      "(2536, 1)\n",
      "(2536, 1)\n"
     ]
    }
   ],
   "source": [
    "model = fit_stacked_model(all_models, x_train,y_train)"
   ]
  },
  {
   "cell_type": "code",
   "execution_count": 30,
   "id": "dac6b8e9",
   "metadata": {
    "execution": {
     "iopub.execute_input": "2023-01-14T22:41:04.930325Z",
     "iopub.status.busy": "2023-01-14T22:41:04.929933Z",
     "iopub.status.idle": "2023-01-14T22:41:04.935134Z",
     "shell.execute_reply": "2023-01-14T22:41:04.934106Z"
    },
    "papermill": {
     "duration": 0.233305,
     "end_time": "2023-01-14T22:41:04.937127",
     "exception": false,
     "start_time": "2023-01-14T22:41:04.703822",
     "status": "completed"
    },
    "tags": []
   },
   "outputs": [],
   "source": [
    "# make a prediction with the stacked model\n",
    "def stacked_prediction(members, model, inputX):\n",
    "    # create dataset using ensemble\n",
    "    stackedX = stacked_dataset(members, inputX)\n",
    "    # make a prediction\n",
    "    yhat = model.predict(stackedX)\n",
    "    return yhat"
   ]
  },
  {
   "cell_type": "code",
   "execution_count": 31,
   "id": "102edb6b",
   "metadata": {
    "execution": {
     "iopub.execute_input": "2023-01-14T22:41:05.388784Z",
     "iopub.status.busy": "2023-01-14T22:41:05.388423Z",
     "iopub.status.idle": "2023-01-14T22:41:06.861560Z",
     "shell.execute_reply": "2023-01-14T22:41:06.860589Z"
    },
    "papermill": {
     "duration": 1.702496,
     "end_time": "2023-01-14T22:41:06.863841",
     "exception": false,
     "start_time": "2023-01-14T22:41:05.161345",
     "status": "completed"
    },
    "tags": []
   },
   "outputs": [
    {
     "data": {
      "text/plain": [
       "767"
      ]
     },
     "execution_count": 31,
     "metadata": {},
     "output_type": "execute_result"
    }
   ],
   "source": [
    "train_add_autis = \"/kaggle/input/autistic-children-facial-data-set/test/autistic/\"\n",
    "train_add_nonautis = \"/kaggle/input/autistic-children-facial-data-set/test/non_autistic/\"\n",
    "\n",
    "\n",
    "x_test, y_test = read_data([train_add_autis, train_add_nonautis])\n",
    "gc.collect()"
   ]
  },
  {
   "cell_type": "code",
   "execution_count": 32,
   "id": "000bc6e5",
   "metadata": {
    "execution": {
     "iopub.execute_input": "2023-01-14T22:41:07.323707Z",
     "iopub.status.busy": "2023-01-14T22:41:07.323233Z",
     "iopub.status.idle": "2023-01-14T22:41:14.201490Z",
     "shell.execute_reply": "2023-01-14T22:41:14.199876Z"
    },
    "papermill": {
     "duration": 7.113536,
     "end_time": "2023-01-14T22:41:14.203491",
     "exception": false,
     "start_time": "2023-01-14T22:41:07.089955",
     "status": "completed"
    },
    "tags": []
   },
   "outputs": [
    {
     "name": "stdout",
     "output_type": "stream",
     "text": [
      "(300, 1)\n",
      "(300, 1)\n",
      "(300, 1)\n",
      "tf.Tensor(0.7781817680290939, shape=(), dtype=float64)\n",
      "79.66666666666666\n"
     ]
    },
    {
     "data": {
      "text/plain": [
       "782"
      ]
     },
     "execution_count": 32,
     "metadata": {},
     "output_type": "execute_result"
    }
   ],
   "source": [
    "yhat = stacked_prediction(all_models, model, x_test)\n",
    "score = f1_m(y_test/1.0, yhat/1.0)\n",
    "print(score)\n",
    "print(acc(y_test/1.0, yhat/1.0))\n",
    "gc.collect()"
   ]
  }
 ],
 "metadata": {
  "kernelspec": {
   "display_name": "Python 3",
   "language": "python",
   "name": "python3"
  },
  "language_info": {
   "codemirror_mode": {
    "name": "ipython",
    "version": 3
   },
   "file_extension": ".py",
   "mimetype": "text/x-python",
   "name": "python",
   "nbconvert_exporter": "python",
   "pygments_lexer": "ipython3",
   "version": "3.7.12"
  },
  "papermill": {
   "default_parameters": {},
   "duration": 1146.165241,
   "end_time": "2023-01-14T22:41:17.439012",
   "environment_variables": {},
   "exception": null,
   "input_path": "__notebook__.ipynb",
   "output_path": "__notebook__.ipynb",
   "parameters": {},
   "start_time": "2023-01-14T22:22:11.273771",
   "version": "2.3.4"
  }
 },
 "nbformat": 4,
 "nbformat_minor": 5
}
